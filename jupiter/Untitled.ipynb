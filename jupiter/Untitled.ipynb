{
 "cells": [
  {
   "cell_type": "code",
   "execution_count": 1,
   "id": "c9e075d7",
   "metadata": {},
   "outputs": [
    {
     "name": "stdout",
     "output_type": "stream",
     "text": [
      "Lira\n"
     ]
    }
   ],
   "source": [
    "print('Lira')"
   ]
  },
  {
   "cell_type": "code",
   "execution_count": 2,
   "id": "5d64078d",
   "metadata": {},
   "outputs": [
    {
     "name": "stdout",
     "output_type": "stream",
     "text": [
      " ----------------  JOGOS DA MEGASENA ----------------\n",
      " =  =  =  =  =  =  =  =  =  =  =  =  =  =  =  =  =  =  =  =  =  =  =  =  =  =  =  =  =  =  =  =  =  =  = \n",
      "Quantos jogos você quer que eu sorteie? 6\n",
      "-=-=-= SORTEANDO 6 JOGOS  -=-=-=-=-=-=-=-=-=-=-=-=-=-=-=-=-=-=-=-=-=-=-=-=-=-=-=-=-=-=\n",
      "jogo 1: [1, 2, 18, 35, 43, 55]\n",
      "jogo 2: [26, 30, 36, 41, 49, 59]\n",
      "jogo 3: [14, 17, 26, 44, 45, 51]\n",
      "jogo 4: [12, 17, 20, 41, 51, 52]\n",
      "jogo 5: [2, 5, 49, 52, 54, 59]\n",
      "jogo 6: [4, 24, 31, 39, 50, 56]\n",
      "-=-=-=-=-= < BOA SORTE > -=-=-=-=-=\n"
     ]
    }
   ],
   "source": [
    "from random import randint\n",
    "from time import sleep\n",
    "lista = list()\n",
    "jogos = list()\n",
    "print(' ----------------  JOGOS DA MEGASENA ----------------')\n",
    "print(' = '*35)\n",
    "quant = int(input('Quantos jogos você quer que eu sorteie? '))\n",
    "tot = 1\n",
    "while tot <= quant:\n",
    "    cont = 0\n",
    "    quin = 0\n",
    "    while True:\n",
    "        num = randint(1, 60)\n",
    "        if num not in lista:\n",
    "             lista.append(num)\n",
    "             cont += 1\n",
    "        if cont >= 6:\n",
    "            break\n",
    "    lista.sort()\n",
    "    jogos.append(lista[:])\n",
    "    lista.clear()\n",
    "    tot += 1\n",
    "print('-='*3, f'SORTEANDO {quant} JOGOS ', '-=' * 30)\n",
    "for i, l in enumerate(jogos):\n",
    "    print(f'jogo {i+1}: {l}')\n",
    "    sleep(1)\n",
    "print('-='*5, '< BOA SORTE >','-='*5)"
   ]
  },
  {
   "cell_type": "code",
   "execution_count": 3,
   "id": "5e57a28b",
   "metadata": {},
   "outputs": [
    {
     "name": "stdout",
     "output_type": "stream",
     "text": [
      "Unidade federativa: Rio de Janeiro\n",
      "Sigla do estado: RJ\n",
      "Unidade federativa: Brailia\n",
      "Sigla do estado: DF\n",
      "[{'uf': 'RIO DE JANEIRO', 'sigla': 'RJ'}, {'uf': 'BRAILIA', 'sigla': 'DF'}]\n",
      "RIO DE JANEIRO RJ \n",
      "BRAILIA DF \n"
     ]
    }
   ],
   "source": [
    "estado = dict()\n",
    "brasil = list()\n",
    "\n",
    "for i in range(1, 3):\n",
    "    estado['uf'] = str(input('Unidade federativa: ')).upper()\n",
    "    estado['sigla'] = str(input('Sigla do estado: ')).upper()\n",
    "    brasil.append(estado.copy())\n",
    "print(brasil)\n",
    "for e in brasil:\n",
    "    for v in e.values():\n",
    "        print(v, end=' ')\n",
    "    print()"
   ]
  },
  {
   "cell_type": "code",
   "execution_count": null,
   "id": "42c7fa9f",
   "metadata": {},
   "outputs": [],
   "source": []
  }
 ],
 "metadata": {
  "kernelspec": {
   "display_name": "Python 3 (ipykernel)",
   "language": "python",
   "name": "python3"
  },
  "language_info": {
   "codemirror_mode": {
    "name": "ipython",
    "version": 3
   },
   "file_extension": ".py",
   "mimetype": "text/x-python",
   "name": "python",
   "nbconvert_exporter": "python",
   "pygments_lexer": "ipython3",
   "version": "3.8.8"
  }
 },
 "nbformat": 4,
 "nbformat_minor": 5
}
